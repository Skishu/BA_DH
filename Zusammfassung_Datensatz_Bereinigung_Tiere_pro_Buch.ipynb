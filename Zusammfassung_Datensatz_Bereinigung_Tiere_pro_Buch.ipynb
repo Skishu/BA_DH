{
 "cells": [
  {
   "cell_type": "code",
   "execution_count": null,
   "metadata": {},
   "outputs": [],
   "source": [
    "!pip install matplotlib"
   ]
  },
  {
   "cell_type": "code",
   "execution_count": null,
   "metadata": {},
   "outputs": [],
   "source": [
    "import json\n",
    "import matplotlib.pyplot as plt\n",
    "from collections import defaultdict\n",
    "import re"
   ]
  },
  {
   "cell_type": "code",
   "execution_count": null,
   "metadata": {},
   "outputs": [],
   "source": [
    "# Pfade zur Eingabe- und Ausgabedatei\n",
    "responses_file = r\"   \"  # (JSON)\n",
    "output_file = r\"   \"  # (JSON)"
   ]
  },
  {
   "cell_type": "code",
   "execution_count": null,
   "metadata": {},
   "outputs": [],
   "source": [
    "# Datensatz einlesen\n",
    "with open(responses_file, 'r') as f:\n",
    "    dataset_data = json.load(f)\n",
    "\n",
    "# Extrahieren der Anzahl der Tiere pro Bild\n",
    "animals_per_image = {}\n",
    "for image_file, count in dataset_data.items():\n",
    "    animals_per_image[image_file] = count"
   ]
  },
  {
   "cell_type": "code",
   "execution_count": null,
   "metadata": {},
   "outputs": [],
   "source": [
    "# Statistiken berechnen\n",
    "# Zusammenfassung der Anzahl der Tiere pro Buch\n",
    "book_counts = defaultdict(int)\n",
    "for image_file, count in animals_per_image.items():\n",
    "    # Entfernt die letzten beiden Unterstriche-Komponenten (Seitenzahl und Illustrationsnummer)\n",
    "    book_id = '_'.join(image_file.split('_')[:-2])\n",
    "    book_counts[book_id] += count"
   ]
  },
  {
   "cell_type": "code",
   "execution_count": null,
   "metadata": {},
   "outputs": [],
   "source": [
    "# Ergebnisse in JSON speichern\n",
    "book_counts_output = {str(book_id): count for book_id, count in book_counts.items()}\n",
    "with open(output_file, 'w') as f:\n",
    "    json.dump(book_counts_output, f, indent=4)\n",
    "\n",
    "print(f\"Die Auswertung wurde erfolgreich unter {output_file} gespeichert.\")"
   ]
  }
 ],
 "metadata": {
  "kernelspec": {
   "display_name": "Python 3",
   "language": "python",
   "name": "python3"
  },
  "language_info": {
   "codemirror_mode": {
    "name": "ipython",
    "version": 3
   },
   "file_extension": ".py",
   "mimetype": "text/x-python",
   "name": "python",
   "nbconvert_exporter": "python",
   "pygments_lexer": "ipython3",
   "version": "3.12.3"
  }
 },
 "nbformat": 4,
 "nbformat_minor": 2
}
