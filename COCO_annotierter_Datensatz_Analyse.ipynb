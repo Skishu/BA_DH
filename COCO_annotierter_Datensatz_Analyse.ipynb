{
 "cells": [
  {
   "cell_type": "code",
   "execution_count": null,
   "metadata": {},
   "outputs": [],
   "source": [
    "!pip install pycocotools"
   ]
  },
  {
   "cell_type": "code",
   "execution_count": null,
   "metadata": {},
   "outputs": [],
   "source": [
    "from pycocotools.coco import COCO\n",
    "import matplotlib.pyplot as plt\n",
    "import os\n",
    "from collections import defaultdict, Counter\n",
    "import numpy as np"
   ]
  },
  {
   "cell_type": "code",
   "execution_count": null,
   "metadata": {},
   "outputs": [],
   "source": [
    "# Pfade zu den Annotationendateien (Ersetzen mit eigenen Pfaden)\n",
    "train_annotation_file = r\"   \" # Pfad zu Trainingsannotations\n",
    "val_annotation_file = r\"   \" # Pfad zu Validierungsannotations\n",
    "test_annotation_file = r\"   \" # Pfad zu Testannotations"
   ]
  },
  {
   "cell_type": "code",
   "execution_count": null,
   "metadata": {},
   "outputs": [],
   "source": [
    "# Laden der Annotationen\n",
    "coco_train = COCO(train_annotation_file) # Trainingssatz laden\n",
    "coco_val = COCO(val_annotation_file) # Validierungssatz laden\n",
    "coco_test = COCO(test_annotation_file) # Testsatz laden"
   ]
  },
  {
   "cell_type": "code",
   "execution_count": null,
   "metadata": {},
   "outputs": [],
   "source": [
    "# Anzahl der Annotationen und Bilder in jedem Datensatz\n",
    "# Trainingssatz\n",
    "train_annotation_ids = coco_train.getAnnIds()\n",
    "num_train_annotations = len(train_annotation_ids)\n",
    "num_train_images = len(coco_train.getImgIds())\n",
    "print(f\"Anzahl der Annotationen im Trainingssatz: {num_train_annotations}\")\n",
    "print(f\"Anzahl der Bilder im Trainingssatz: {num_train_images}\")\n",
    "\n",
    "# Validierungssatz\n",
    "val_annotation_ids = coco_val.getAnnIds()\n",
    "num_val_annotations = len(val_annotation_ids)\n",
    "num_val_images = len(coco_val.getImgIds())\n",
    "print(f\"Anzahl der Annotationen im Validierungssatz: {num_val_annotations}\")\n",
    "print(f\"Anzahl der Bilder im Validierungssatz: {num_val_images}\")\n",
    "\n",
    "# Testsatz\n",
    "test_annotation_ids = coco_test.getAnnIds()\n",
    "num_test_annotations = len(test_annotation_ids)\n",
    "num_test_images = len(coco_test.getImgIds())\n",
    "print(f\"Anzahl der Annotationen im Testsatz: {num_test_annotations}\")\n",
    "print(f\"Anzahl der Bilder im Testsatz: {num_test_images}\")\n",
    "\n",
    "# Gesamtanzahl der Annotationen und Bilder\n",
    "total_annotations = num_train_annotations + num_val_annotations + num_test_annotations\n",
    "total_images = num_train_images + num_val_images + num_test_images\n",
    "print(f\"Gesamtanzahl der Annotationen: {total_annotations}\")\n",
    "print(f\"Gesamtanzahl der Bilder: {total_images}\")"
   ]
  },
  {
   "cell_type": "code",
   "execution_count": null,
   "metadata": {},
   "outputs": [],
   "source": [
    "# Durchschnittliche Anzahl von Annotationen pro Bild\n",
    "# Trainingssatz\n",
    "durchschn_train = num_train_annotations / num_train_images\n",
    "print(f\"Durchschnittliche Annotationen pro Bild im Trainingssatz: {durchschn_train:.2f}\")\n",
    "\n",
    "# Validierungssatz\n",
    "durchschn_val = num_val_annotations / num_val_images\n",
    "print(f\"Durchschnittliche Annotationen pro Bild im Validierungssatz: {durchschn_val:.2f}\")\n",
    "\n",
    "# Testsatz\n",
    "durchschn_test = num_test_annotations / num_test_images\n",
    "print(f\"Durchschnittliche Annotationen pro Bild im Testsatz: {durchschn_test:.2f}\")\n",
    "\n",
    "# Gesamt\n",
    "durchschn_total = total_annotations / total_images\n",
    "print(f\"Durchschnittliche Annotationen pro Bild insgesamt: {durchschn_total:.2f}\")"
   ]
  },
  {
   "cell_type": "code",
   "execution_count": null,
   "metadata": {},
   "outputs": [],
   "source": [
    "# Verteilung der Bounding Box Breiten und Höhen im Trainingssatz\n",
    "bbox_widths, bbox_heights = [], []\n",
    "for ann in coco_train.dataset['annotations']:\n",
    "    width, height = ann['bbox'][2], ann['bbox'][3] # Breite und Höhe der Bounding Box\n",
    "    bbox_widths.append(width)\n",
    "    bbox_heights.append(height)"
   ]
  },
  {
   "cell_type": "code",
   "execution_count": null,
   "metadata": {},
   "outputs": [],
   "source": [
    "# Histogramme erstellen\n",
    "plt.figure(figsize=(10, 6))\n",
    "plt.hist(bbox_widths, bins=50)\n",
    "plt.xlabel('Breite der Bounding Box')\n",
    "plt.ylabel('Anzahl')\n",
    "plt.title('Verteilung der Bounding Box Breiten im Trainingssatz')\n",
    "plt.show()"
   ]
  },
  {
   "cell_type": "code",
   "execution_count": null,
   "metadata": {},
   "outputs": [],
   "source": [
    "plt.figure(figsize=(10, 6))\n",
    "plt.hist(bbox_heights, bins=50)\n",
    "plt.xlabel('Höhe der Bounding Box')\n",
    "plt.ylabel('Anzahl')\n",
    "plt.title('Verteilung der Bounding Box Höhen im Trainingssatz')\n",
    "plt.show()"
   ]
  },
  {
   "cell_type": "code",
   "execution_count": null,
   "metadata": {},
   "outputs": [],
   "source": [
    "# Anzahl verschiedener Bildauflösungen im Trainingssatz\n",
    "image_resolutions = [(img['width'], img['height']) for img in coco_train.dataset['images']]\n",
    "unique_resolutions = set(image_resolutions)\n",
    "print(f\"Anzahl verschiedener Bildauflösungen im Trainingssatz: {len(unique_resolutions)}\")\n",
    "print(\"Verschiedene Bildauflösungen im Trainingssatz:\")\n",
    "for res in unique_resolutions:\n",
    "    print(f\"Breite: {res[0]}, Höhe: {res[1]}\")"
   ]
  },
  {
   "cell_type": "code",
   "execution_count": null,
   "metadata": {},
   "outputs": [],
   "source": [
    "# Verteilung der Anzahl der Annotationen pro Bild\n",
    "def compute_annotation_distribution(coco, dataset_name):\n",
    "    image_annotation_count = defaultdict(int)\n",
    "    for ann in coco.dataset['annotations']:\n",
    "        image_annotation_count[ann['image_id']] += 1\n",
    "\n",
    "    images_with_zero_annotations = sum(1 for image_id in coco.getImgIds() if image_annotation_count.get(image_id, 0) == 0)\n",
    "    images_with_one_annotation = sum(1 for count in image_annotation_count.values() if count == 1)\n",
    "    images_with_two_to_five_annotations = sum(1 for count in image_annotation_count.values() if 2 <= count <= 5)\n",
    "    images_with_more_than_five_annotations = sum(1 for count in image_annotation_count.values() if count > 5)\n",
    "\n",
    "    print(f\"\\nStatistik für den {dataset_name}-Datensatz:\")\n",
    "    print(f\" - Bilder ohne Annotation: {images_with_zero_annotations}\")\n",
    "    print(f\" - Bilder mit einer Annotation: {images_with_one_annotation}\")\n",
    "    print(f\" - Bilder mit 2 bis 5 Annotationen: {images_with_two_to_five_annotations}\")\n",
    "    print(f\" - Bilder mit mehr als 5 Annotationen: {images_with_more_than_five_annotations}\")"
   ]
  },
  {
   "cell_type": "code",
   "execution_count": null,
   "metadata": {},
   "outputs": [],
   "source": [
    "# Trainings-, Validierungs- und Testsatz analysieren\n",
    "compute_annotation_distribution(coco_train, \"Trainings\")\n",
    "compute_annotation_distribution(coco_val, \"Validierungs\")\n",
    "compute_annotation_distribution(coco_test, \"Test\")"
   ]
  },
  {
   "cell_type": "code",
   "execution_count": null,
   "metadata": {},
   "outputs": [],
   "source": [
    "# Gruppierte Verteilung der Anzahl der Annotationen pro Bild plotten\n",
    "def plot_annotation_count_distribution_grouped(coco, dataset_name):\n",
    "    annotation_counts = [len(coco.getAnnIds(imgIds=[image_id])) for image_id in coco.getImgIds() if len(coco.getAnnIds(imgIds=[image_id])) > 0]\n",
    "    grouped_counts = defaultdict(int)\n",
    "    for count in annotation_counts:\n",
    "        if count == 1:\n",
    "            grouped_counts['1'] += 1\n",
    "        elif count == 2:\n",
    "            grouped_counts['2'] += 1\n",
    "        elif count == 3:\n",
    "            grouped_counts['3'] += 1\n",
    "        elif 4 <= count <= 5:\n",
    "            grouped_counts['4-5'] += 1\n",
    "        elif 6 <= count <= 10:\n",
    "            grouped_counts['6-10'] += 1\n",
    "        else:\n",
    "            grouped_counts['>10'] += 1\n",
    "\n",
    "    group_order = ['1', '2', '3', '4-5', '6-10', '>10']\n",
    "    image_frequencies = [grouped_counts.get(group, 0) for group in group_order]\n",
    "\n",
    "    plt.figure(figsize=(8, 6))\n",
    "    plt.bar(group_order, image_frequencies)\n",
    "    plt.xlabel('Anzahl der Annotationen pro Bild')\n",
    "    plt.ylabel('Anzahl der Bilder')\n",
    "    plt.title(f'Verteilung der Anzahl der Annotationen pro Bild im {dataset_name}-Datensatz (Gruppiert)')\n",
    "    plt.grid(axis='y', linestyle='--', alpha=0.7)\n",
    "    plt.tight_layout()\n",
    "    plt.show()"
   ]
  },
  {
   "cell_type": "code",
   "execution_count": null,
   "metadata": {},
   "outputs": [],
   "source": [
    "# Verteilungen plotten\n",
    "plot_annotation_count_distribution_grouped(coco_train, \"Trainings\")\n",
    "plot_annotation_count_distribution_grouped(coco_val, \"Validierungs\")\n",
    "plot_annotation_count_distribution_grouped(coco_test, \"Test\")"
   ]
  }
 ],
 "metadata": {
  "kernelspec": {
   "display_name": "Python 3",
   "language": "python",
   "name": "python3"
  },
  "language_info": {
   "codemirror_mode": {
    "name": "ipython",
    "version": 3
   },
   "file_extension": ".py",
   "mimetype": "text/x-python",
   "name": "python",
   "nbconvert_exporter": "python",
   "pygments_lexer": "ipython3",
   "version": "3.12.3"
  }
 },
 "nbformat": 4,
 "nbformat_minor": 2
}
