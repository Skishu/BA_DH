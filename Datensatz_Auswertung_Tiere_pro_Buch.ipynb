{
 "cells": [
  {
   "cell_type": "code",
   "execution_count": null,
   "metadata": {},
   "outputs": [],
   "source": [
    "!pip install matplotlib"
   ]
  },
  {
   "cell_type": "code",
   "execution_count": null,
   "metadata": {},
   "outputs": [],
   "source": [
    "import json\n",
    "import matplotlib.pyplot as plt\n",
    "from collections import defaultdict"
   ]
  },
  {
   "cell_type": "code",
   "execution_count": null,
   "metadata": {},
   "outputs": [],
   "source": [
    "# Pfade definieren\n",
    "responses_file = \"   \" # Pfad zur JSON-Datei mit den Detektionsergebnissen\n",
    "output_file = \"   \" # Pfad zur Ausgabe der Auswertung (JSON)"
   ]
  },
  {
   "cell_type": "code",
   "execution_count": null,
   "metadata": {},
   "outputs": [],
   "source": [
    "#Einlesen der JSON-Datei\n",
    "with open(responses_file, 'r') as f:\n",
    "    chatgpt_data = json.load(f)\n",
    "\n",
    "# Extrahieren der Anzahl der Tiere pro Bild\n",
    "animals_per_image_chatgpt = {}\n",
    "for image_file, count in chatgpt_data.items():\n",
    "    animals_per_image_chatgpt[image_file] = count"
   ]
  },
  {
   "cell_type": "code",
   "execution_count": null,
   "metadata": {},
   "outputs": [],
   "source": [
    "# Berechnen der Statistiken\n",
    "book_counts = defaultdict(int)\n",
    "for image_file, count in animals_per_image_chatgpt.items():\n",
    "    book_id = '_'.join(image_file.split('_')[:-2]) # Entfernt Seitenzahl und Illustrationsnummer\n",
    "    book_counts[book_id] += count"
   ]
  },
  {
   "cell_type": "code",
   "execution_count": null,
   "metadata": {},
   "outputs": [],
   "source": [
    "# Speichern der Ergebnisse in einer JSON-Datei\n",
    "book_counts_output = {str(book_id): count for book_id, count in book_counts.items()}\n",
    "with open(output_file, 'w') as f:\n",
    "    json.dump(book_counts_output, f, indent=4)\n",
    "\n",
    "print(f\"Die Auswertung wurde erfolgreich unter {output_file} gespeichert.\")"
   ]
  },
  {
   "cell_type": "code",
   "execution_count": null,
   "metadata": {},
   "outputs": [],
   "source": [
    "# Visualisierung der Anzahl der Tiere pro Buch\n",
    "counts_distribution = defaultdict(int)\n",
    "for count in book_counts.values():\n",
    "    counts_distribution[count] += 1\n",
    "\n",
    "# Sortieren der Kategorien für die Darstellung\n",
    "categories = sorted(counts_distribution.keys())\n",
    "values = [counts_distribution[category] for category in categories]\n",
    "\n",
    "# Erstellen des Balkendiagramms\n",
    "plt.figure(figsize=(15, 6))\n",
    "plt.bar([f'{cat} Tiere' for cat in categories], values, color='skyblue')\n",
    "plt.xlabel('Anzahl der Tiere pro Buch')\n",
    "plt.ylabel('Anzahl der Bücher')\n",
    "plt.title('Verteilung der Anzahl der Tiere pro Buch')\n",
    "plt.grid(axis='y', linestyle='--', alpha=0.7)\n",
    "plt.xticks(rotation=45)\n",
    "\n",
    "# Hinzufügen der Anzahl über jedem Balken\n",
    "for idx, value in enumerate(values):\n",
    "    plt.text(idx, value + 0.5, str(value), ha='center', va='bottom')\n",
    "\n",
    "plt.tight_layout()\n",
    "plt.show()"
   ]
  }
 ],
 "metadata": {
  "kernelspec": {
   "display_name": "Python 3",
   "language": "python",
   "name": "python3"
  },
  "language_info": {
   "codemirror_mode": {
    "name": "ipython",
    "version": 3
   },
   "file_extension": ".py",
   "mimetype": "text/x-python",
   "name": "python",
   "nbconvert_exporter": "python",
   "pygments_lexer": "ipython3",
   "version": "3.12.3"
  }
 },
 "nbformat": 4,
 "nbformat_minor": 2
}
