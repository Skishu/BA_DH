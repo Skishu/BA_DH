{
 "cells": [
  {
   "cell_type": "code",
   "execution_count": null,
   "metadata": {},
   "outputs": [],
   "source": [
    "!pip install transformers torchvision torch pycocotools"
   ]
  },
  {
   "cell_type": "code",
   "execution_count": null,
   "metadata": {},
   "outputs": [],
   "source": [
    "import os\n",
    "import json\n",
    "import torch\n",
    "from transformers import AutoProcessor, OwlViTForObjectDetection\n",
    "from pycocotools.coco import COCO\n",
    "from pycocotools.cocoeval import COCOeval\n",
    "from PIL import Image\n",
    "from tqdm import tqdm"
   ]
  },
  {
   "cell_type": "code",
   "execution_count": null,
   "metadata": {},
   "outputs": [],
   "source": [
    "# Initialisierung des OWL-ViT-Modells und Prozessors\n",
    "model_name = \"google/owlvit-large-patch14\"\n",
    "processor_owlvit = AutoProcessor.from_pretrained(model_name)\n",
    "model_owlvit = OwlViTForObjectDetection.from_pretrained(model_name)"
   ]
  },
  {
   "cell_type": "code",
   "execution_count": null,
   "metadata": {},
   "outputs": [],
   "source": [
    "# Überprüfen, ob eine GPU verfügbar ist\n",
    "device = torch.device(\"cuda\" if torch.cuda.is_available() else \"cpu\")\n",
    "model_owlvit.to(device)"
   ]
  },
  {
   "cell_type": "code",
   "execution_count": null,
   "metadata": {},
   "outputs": [],
   "source": [
    "# Pfade anpassen\n",
    "image_folder = \"   \" # Pfad zum Bilderordner\n",
    "annotation_file = \"   \" # Pfad zur COCO-Annotationsdatei"
   ]
  },
  {
   "cell_type": "code",
   "execution_count": null,
   "metadata": {},
   "outputs": [],
   "source": [
    "# Laden der Ground-Truth-Annotationen\n",
    "coco_gt = COCO(annotation_file)\n",
    "\n",
    "# Bilder sammeln\n",
    "image_paths = [os.path.join(image_folder, img) for img in os.listdir(image_folder)\n",
    "               if img.endswith('.jpg') or img.endswith('.png')]\n",
    "\n",
    "# Erstellen des Mappings von Dateinamen zu Bild-IDs\n",
    "filename_to_image_id = {img['file_name']: img['id'] for img in coco_gt.dataset['images']}"
   ]
  },
  {
   "cell_type": "code",
   "execution_count": null,
   "metadata": {},
   "outputs": [],
   "source": [
    "# animal_category_id = 1\n",
    "animal_category_id = 1"
   ]
  },
  {
   "cell_type": "code",
   "execution_count": null,
   "metadata": {},
   "outputs": [],
   "source": [
    "# Funktion zur Konvertierung in COCO-Format\n",
    "def convert_to_coco_format(results, ground_truth_category_id):\n",
    "    coco_results = []\n",
    "    for result in results:\n",
    "        image_id = result[\"image_id\"]\n",
    "        boxes = result[\"boxes\"]\n",
    "        scores = result[\"scores\"]\n",
    "        labels = result[\"labels\"]\n",
    "        for box, score, label in zip(boxes, scores, labels):\n",
    "            x_min, y_min, x_max, y_max = box\n",
    "            width = x_max - x_min\n",
    "            height = y_max - y_min\n",
    "            category_id = ground_truth_category_id\n",
    "            coco_results.append({\n",
    "                \"image_id\": image_id,\n",
    "                \"category_id\": category_id,\n",
    "                \"bbox\": [x_min, y_min, width, height],\n",
    "                \"score\": score\n",
    "            })\n",
    "    return coco_results"
   ]
  },
  {
   "cell_type": "code",
   "execution_count": null,
   "metadata": {},
   "outputs": [],
   "source": [
    "# Ergebnisse speichern\n",
    "output_file = r\"E:\\Bachelor_Final\\OWL\\owlvit_results.json\"\n",
    "with open(output_file, \"w\") as f:\n",
    "    json.dump(coco_results_owlvit, f)\n",
    "\n",
    "# Laden der Ergebnisse und Evaluierung\n",
    "coco_dt_owlvit = coco_gt.loadRes(output_file)\n",
    "coco_eval_owlvit = COCOeval(coco_gt, coco_dt_owlvit, iouType='bbox')\n",
    "coco_eval_owlvit.evaluate()\n",
    "coco_eval_owlvit.accumulate()\n",
    "coco_eval_owlvit.summarize()"
   ]
  },
  {
   "cell_type": "code",
   "execution_count": null,
   "metadata": {},
   "outputs": [],
   "source": [
    "# Verarbeitung der Bilder mit Fortschrittsbalken\n",
    "results_owlvit = []\n",
    "for image_path in tqdm(image_paths, desc=\"Verarbeitung von Bildern\"):\n",
    "    image = Image.open(image_path).convert(\"RGB\")\n",
    "    inputs = processor_owlvit(text=[\"animal\"], images=image, return_tensors=\"pt\").to(device)\n",
    "\n",
    "    with torch.no_grad():\n",
    "        outputs = model_owlvit(**inputs)\n",
    "\n",
    "    target_sizes = torch.tensor([image.size[::-1]], device=device)\n",
    "    results = processor_owlvit.post_process_object_detection(outputs=outputs, threshold=0.1, target_sizes=target_sizes)[0]\n",
    "\n",
    "    # Ermitteln des Bilddateinamens\n",
    "    image_filename = os.path.basename(image_path)\n",
    "\n",
    "    # Abrufen der Bild-ID aus dem Mapping\n",
    "    image_id = filename_to_image_id.get(image_filename)\n",
    "\n",
    "    if image_id is None:\n",
    "        print(f\"Bild-ID für {image_filename} nicht gefunden. Überspringe dieses Bild.\")\n",
    "        continue\n",
    "\n",
    "    # Speichern der Ergebnisse\n",
    "    results_owlvit.append({\n",
    "        \"image_id\": image_id,\n",
    "        \"boxes\": results[\"boxes\"].tolist(),\n",
    "        \"scores\": results[\"scores\"].tolist(),\n",
    "        \"labels\": results[\"labels\"].tolist(),\n",
    "    })"
   ]
  },
  {
   "cell_type": "code",
   "execution_count": null,
   "metadata": {},
   "outputs": [],
   "source": [
    "# Konvertieren der Ergebnisse ins COCO-Format\n",
    "coco_results_owlvit = convert_to_coco_format(results_owlvit, animal_category_id)\n",
    "\n",
    "# Ergebnisse speichern\n",
    "output_file = \"   \" # Pfad zur Ausgabe-Datei\n",
    "with open(output_file, \"w\") as f:\n",
    "    json.dump(coco_results_owlvit, f)"
   ]
  },
  {
   "cell_type": "code",
   "execution_count": null,
   "metadata": {},
   "outputs": [],
   "source": [
    "# Laden der Ergebnisse und Evaluierung\n",
    "coco_dt_owlvit = coco_gt.loadRes(output_file)\n",
    "coco_eval_owlvit = COCOeval(coco_gt, coco_dt_owlvit, iouType='bbox')\n",
    "coco_eval_owlvit.evaluate()\n",
    "coco_eval_owlvit.accumulate()\n",
    "coco_eval_owlvit.summarize()"
   ]
  }
 ],
 "metadata": {
  "kernelspec": {
   "display_name": "Python 3",
   "language": "python",
   "name": "python3"
  },
  "language_info": {
   "codemirror_mode": {
    "name": "ipython",
    "version": 3
   },
   "file_extension": ".py",
   "mimetype": "text/x-python",
   "name": "python",
   "nbconvert_exporter": "python",
   "pygments_lexer": "ipython3",
   "version": "3.12.3"
  }
 },
 "nbformat": 4,
 "nbformat_minor": 2
}
