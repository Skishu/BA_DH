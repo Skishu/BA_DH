{
 "cells": [
  {
   "cell_type": "code",
   "execution_count": null,
   "metadata": {},
   "outputs": [],
   "source": [
    "!pip install openai\n",
    "!pip install tqdm\n",
    "!pip install requests"
   ]
  },
  {
   "cell_type": "code",
   "execution_count": null,
   "metadata": {},
   "outputs": [],
   "source": [
    "import openai\n",
    "import os\n",
    "import json\n",
    "import base64\n",
    "import requests\n",
    "from tqdm import tqdm"
   ]
  },
  {
   "cell_type": "code",
   "execution_count": null,
   "metadata": {},
   "outputs": [],
   "source": [
    "# API Schlüssel\n",
    "api_key = 'sk-...'"
   ]
  },
  {
   "cell_type": "code",
   "execution_count": null,
   "metadata": {},
   "outputs": [],
   "source": [
    "# Funktion zum Kodieren des Bildes in Base64\n",
    "# Konvertiert das Bild in einen Base64-String\n",
    "\n",
    "def encode_image(image_path):\n",
    "    with open(image_path, \"rb\") as image_file:\n",
    "        return base64.b64encode(image_file.read()).decode('utf-8')\n",
    "\n",
    "# Pfad zu deinem Bildverzeichnis\n",
    "images_directory = \"   \" # Bildverzeichnis angeben\n",
    "\n",
    "# Pfad zum Speichern der Antwort\n",
    "response_save_path = \"   \" # Pfad angeben, wo Ergebnisse gespeichert werden\n",
    "\n",
    "# Headers für die OpenAI API-Anfrage\n",
    "headers = {\n",
    "    \"Content-Type\": \"application/json\",\n",
    "    \"Authorization\": f\"Bearer {api_key}\" # API-Schlüssel für die Authentifizierung\n",
    "}\n",
    "\n",
    "# Liste, um die Ergebnisse zu speichern\n",
    "results = []  # Ergebnisse der API-Anfragen hier speichern\n",
    "\n",
    "# Alle Bilder im Verzeichnis holen\n",
    "image_files = [f for f in os.listdir(images_directory) if f.endswith(\".webp\")]\n",
    "\n",
    "# Fortschrittsbalken anzeigen während der Verarbeitung\n",
    "for image_file in tqdm(image_files, desc=\"Processing images\"):\n",
    "    image_path = os.path.join(images_directory, image_file)\n",
    "    base64_image = encode_image(image_path) # Bild kodieren\n",
    "    \n",
    "    # Anfrage-Payload für OpenAI API\n",
    "    payload = {\n",
    "        \"model\": \"gpt-4o\", # Modellname\n",
    "        \"messages\": [\n",
    "            {\n",
    "                \"role\": \"user\",\n",
    "                \"content\": [\n",
    "                    {\n",
    "                        \"type\": \"text\",\n",
    "                        \"text\": \"Count the animals in the picture. If there are any, hand them out: Yes, [number]. If there are none, enter: No, 0.\"\n",
    "                    },\n",
    "                    {\n",
    "                        \"type\": \"image_url\",\n",
    "                        \"image_url\": {\n",
    "                            \"url\": f\"data:image/jpeg;base64,{base64_image}\", # Base64-kodiertes Bild\n",
    "                            \"detail\": \"low\" # Detailgrad des Bildes (low oder high)\n",
    "                        }\n",
    "                    }\n",
    "                ]\n",
    "            }\n",
    "        ],\n",
    "        \"max_tokens\": 10  # Maximal zulässige Ausgabezeichen\n",
    "    }\n",
    "    \n",
    "    # Anfrage an die OpenAI API senden\n",
    "    response = requests.post(\"https://api.openai.com/v1/chat/completions\", headers=headers, json=payload)\n",
    "    \n",
    "    # Nur relevante Informationen aus der Antwort extrahieren\n",
    "    result = {\n",
    "        \"image_file\": image_file,  # Name der Bilddatei\n",
    "        \"response\": response.json().get('choices', [{}])[0].get('message', {}).get('content', '') # Antwortinhalt\n",
    "    }\n",
    "    results.append(result) # Ergebnis der Liste hinzufügen\n",
    "\n",
    "# Sicherstellen, dass das Verzeichnis existiert, in dem die Ergebnisse gespeichert werden\n",
    "os.makedirs(os.path.dirname(response_save_path), exist_ok=True)\n",
    "\n",
    "# Ergebnisse in einer JSON-Datei speichern\n",
    "with open(response_save_path, 'w') as json_file:\n",
    "    json.dump(results, json_file, indent=4) # Ergebnisse als JSON speichern\n",
    "\n",
    "# Ausgabe, dass die Ergebnisse gespeichert wurden\n",
    "print(\"Antworten wurden hier gespeichert:\", response_save_path)\n"
   ]
  }
 ],
 "metadata": {
  "kernelspec": {
   "display_name": "Python 3",
   "language": "python",
   "name": "python3"
  },
  "language_info": {
   "codemirror_mode": {
    "name": "ipython",
    "version": 3
   },
   "file_extension": ".py",
   "mimetype": "text/x-python",
   "name": "python",
   "nbconvert_exporter": "python",
   "pygments_lexer": "ipython3",
   "version": "3.12.3"
  }
 },
 "nbformat": 4,
 "nbformat_minor": 2
}
