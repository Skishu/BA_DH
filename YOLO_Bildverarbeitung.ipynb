{
 "cells": [
  {
   "cell_type": "code",
   "execution_count": null,
   "metadata": {},
   "outputs": [],
   "source": [
    "!pip install opencv-python\n",
    "!pip install ultralytics"
   ]
  },
  {
   "cell_type": "code",
   "execution_count": null,
   "metadata": {},
   "outputs": [],
   "source": [
    "import os\n",
    "import cv2\n",
    "import json\n",
    "from pathlib import Path\n",
    "from ultralytics import YOLO"
   ]
  },
  {
   "cell_type": "code",
   "execution_count": null,
   "metadata": {},
   "outputs": [],
   "source": [
    "# Pfad zu den Bildern und dem Ausgabeordner\n",
    "input_folder = \"   \"  # Pfad zum Eingabeordner mit Bildern\n",
    "output_folder = \"   \"  # Pfad zum Ausgabeordner\n",
    "os.makedirs(output_folder, exist_ok=True)  # Ordner erstellen, falls nicht vorhanden"
   ]
  },
  {
   "cell_type": "code",
   "execution_count": null,
   "metadata": {},
   "outputs": [],
   "source": [
    "# YOLO-Modell laden\n",
    "model = YOLO(\"   \")  # Pfad zum YOLO-Modell .pt"
   ]
  },
  {
   "cell_type": "code",
   "execution_count": null,
   "metadata": {},
   "outputs": [],
   "source": [
    "# Dictionary zum Speichern der Ergebnisse\n",
    "results_dict = {}\n",
    "\n",
    "# Alle Bilder im Eingabeordner durchgehen\n",
    "for image_file in Path(input_folder).rglob(\"*.webp\"): # Bildformat beachten\n",
    "    # Bild laden\n",
    "    img = cv2.imread(str(image_file))\n",
    "    \n",
    "    # YOLO Detections\n",
    "    results = model(img)\n",
    "\n",
    "    # Anzahl der Detections für das aktuelle Bild\n",
    "    num_detections = sum(len(result.boxes) for result in results)\n",
    "\n",
    "    # Ergebnisse im Dictionary speichern\n",
    "    results_dict[str(image_file.name)] = num_detections\n",
    "    \n",
    "    # Über alle Ergebnisse iterieren\n",
    "    for result in results:\n",
    "        # Box-Koordinaten extrahieren\n",
    "        detections = result.boxes.xyxy.cpu().numpy()\n",
    "        \n",
    "        # Originaler Dateiname und Komponenten extrahieren\n",
    "        original_name = image_file.stem  # Dateiname ohne Erweiterung\n",
    "        components = original_name.split(\"_\")\n",
    "        \n",
    "        # Buchname und Seitennummer ermitteln\n",
    "        book_number = \"_\".join(components[:-2])  # Buchnummer\n",
    "        page_number = components[-2]  # Seitennummer\n",
    "        illustration_number = components[-1]  # Illustrationsnummer\n",
    "        \n",
    "        # Detections speichern\n",
    "        for i, (x1, y1, x2, y2) in enumerate(detections):\n",
    "            # Zuschnitt der Detection\n",
    "            cropped_img = img[int(y1):int(y2), int(x1):int(x2)]\n",
    "            \n",
    "            # Neuer Dateiname\n",
    "            detection_number = f\"{i:02d}\"\n",
    "            new_filename = f\"{book_number}_{page_number}_{illustration_number}_{detection_number}.webp\"\n",
    "            \n",
    "            # Speicherpfad\n",
    "            output_path = os.path.join(output_folder, new_filename)\n",
    "            \n",
    "            # Speicher das ausgeschnittene Bild\n",
    "            cv2.imwrite(output_path, cropped_img)\n",
    "\n",
    "# Ergebnisse in einer JSON-Datei speichern\n",
    "with open(\"   \", \"w\") as json_file:  # Pfad zur Ausgabe-JSON-Datei\n",
    "    json.dump(results_dict, json_file, indent=4)\n",
    "\n",
    "print(\"Alle Bilder wurden verarbeitet und die Ergebnisse wurden gespeichert.\")"
   ]
  }
 ],
 "metadata": {
  "kernelspec": {
   "display_name": "Python 3",
   "language": "python",
   "name": "python3"
  },
  "language_info": {
   "codemirror_mode": {
    "name": "ipython",
    "version": 3
   },
   "file_extension": ".py",
   "mimetype": "text/x-python",
   "name": "python",
   "nbconvert_exporter": "python",
   "pygments_lexer": "ipython3",
   "version": "3.12.3"
  }
 },
 "nbformat": 4,
 "nbformat_minor": 2
}
