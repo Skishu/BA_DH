{
 "cells": [
  {
   "cell_type": "code",
   "execution_count": null,
   "metadata": {},
   "outputs": [],
   "source": [
    "!pip install fiftyone\n",
    "!fiftyone plugins download https://github.com/jacobmarks/clustering-plugin"
   ]
  },
  {
   "cell_type": "code",
   "execution_count": 1,
   "metadata": {},
   "outputs": [],
   "source": [
    "import fiftyone.brain as fob\n",
    "import fiftyone as fo\n",
    "import os"
   ]
  },
  {
   "cell_type": "code",
   "execution_count": null,
   "metadata": {},
   "outputs": [],
   "source": [
    "# Definiere den Pfad zum Ordner mit den Bildern\n",
    "image_dir = r\"   \"\n",
    "\n",
    "# Erstellen eines neuen FiftyOne-Datensatz\n",
    "dataset = fo.Dataset(name=\"   \") # Namen bestimmen\n",
    "\n",
    "# Sammel alle .webp-Dateien im Verzeichnis\n",
    "samples = []\n",
    "for filename in os.listdir(image_dir):\n",
    "    if filename.endswith(\".webp\"):\n",
    "        # Erstelle ein Sample für jedes Bild\n",
    "        filepath = os.path.join(image_dir, filename) # Pfad zum Bild\n",
    "        sample = fo.Sample(filepath=filepath) # Sample erstellen\n",
    "        samples.append(sample)\n",
    "\n",
    "# Samples zum Dataset hinzufügen\n",
    "dataset.add_samples(samples) "
   ]
  },
  {
   "cell_type": "code",
   "execution_count": null,
   "metadata": {},
   "outputs": [],
   "source": [
    "# Berechnung der Visualisierung basierend auf CLIP-Embeddings\n",
    "res = fob.compute_visualization(\n",
    "    dataset, \n",
    "    model=\"clip-vit-base32-torch\", \n",
    "    embeddings=\"clip_embeddings\", \n",
    "    method=\"umap\", \n",
    "    brain_key=\"clip_vis\", \n",
    "    batch_size=10\n",
    ")\n",
    "dataset.set_values(\"clip_umap\", res.current_points)  # Setzt die berechneten Punkte im Datensatz"
   ]
  },
  {
   "cell_type": "code",
   "execution_count": null,
   "metadata": {},
   "outputs": [],
   "source": [
    "#http://localhost:5151/datasets/Datensatz\n",
    "\n",
    "# Starten der FiftyOne-App\n",
    "session = fo.launch_app()"
   ]
  }
 ],
 "metadata": {
  "kernelspec": {
   "display_name": "Python 3",
   "language": "python",
   "name": "python3"
  },
  "language_info": {
   "codemirror_mode": {
    "name": "ipython",
    "version": 3
   },
   "file_extension": ".py",
   "mimetype": "text/x-python",
   "name": "python",
   "nbconvert_exporter": "python",
   "pygments_lexer": "ipython3",
   "version": "3.12.3"
  }
 },
 "nbformat": 4,
 "nbformat_minor": 2
}
