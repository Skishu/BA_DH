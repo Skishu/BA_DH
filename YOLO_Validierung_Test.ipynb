{
 "cells": [
  {
   "cell_type": "code",
   "execution_count": null,
   "metadata": {},
   "outputs": [],
   "source": [
    "!pip install ultralytics"
   ]
  },
  {
   "cell_type": "code",
   "execution_count": null,
   "metadata": {},
   "outputs": [],
   "source": [
    "# Bibliotheken importieren\n",
    "from ultralytics import YOLO # Nutzung bei einem herkömmlichen YOLO - Modell\n",
    "from ultralytics import YOLOWorld # Nutzung bei einem YOLO - World - Modell"
   ]
  },
  {
   "cell_type": "code",
   "execution_count": null,
   "metadata": {},
   "outputs": [],
   "source": [
    "# Modellpfad und Datenpfad definieren\n",
    "model_path = \"   \" # (\"pfad/zum/modell/best.pt\")\n",
    "data_path = \"   \"  # (\"pfad/zum/datensatz/data.yaml\")"
   ]
  },
  {
   "cell_type": "code",
   "execution_count": null,
   "metadata": {},
   "outputs": [],
   "source": [
    "# Modell validieren\n",
    "def validate_model(model_path, data_path):\n",
    "    # Lade das Modell\n",
    "    model = YOLO(model_path) # YOLO-Modell mit gegebenem Pfad laden\n",
    "    \n",
    "    # Führe die Validierung des Modells mit den Daten durch\n",
    "    metrics = model.val(data=data_path)\n",
    "    \n",
    "    return metrics\n",
    "\n",
    "# Validierung starten\n",
    "metrics = validate_model(model_path, data_path)"
   ]
  },
  {
   "cell_type": "code",
   "execution_count": null,
   "metadata": {},
   "outputs": [],
   "source": [
    "# Metriken anzeigen\n",
    "print(metrics)"
   ]
  }
 ],
 "metadata": {
  "kernelspec": {
   "display_name": "Python 3",
   "language": "python",
   "name": "python3"
  },
  "language_info": {
   "codemirror_mode": {
    "name": "ipython",
    "version": 3
   },
   "file_extension": ".py",
   "mimetype": "text/x-python",
   "name": "python",
   "nbconvert_exporter": "python",
   "pygments_lexer": "ipython3",
   "version": "3.12.3"
  }
 },
 "nbformat": 4,
 "nbformat_minor": 2
}
