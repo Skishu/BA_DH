{
 "cells": [
  {
   "cell_type": "code",
   "execution_count": null,
   "id": "5601a92e-f14a-4028-ad98-6556b23cdc98",
   "metadata": {},
   "outputs": [],
   "source": [
    "!pip install ultralytics"
   ]
  },
  {
   "cell_type": "code",
   "execution_count": null,
   "id": "178e2ef5-838b-49c7-adae-86135e665a6a",
   "metadata": {},
   "outputs": [],
   "source": [
    "from ultralytics import YOLOWorld #nur bei World Modellen\n",
    "from ultralytics import YOLO"
   ]
  },
  {
   "cell_type": "code",
   "execution_count": null,
   "id": "aaa71e0c-7b13-42f5-b9c5-69f57df2befb",
   "metadata": {},
   "outputs": [],
   "source": [
    "model = YOLOWorld(\"Modell einfügen\")"
   ]
  },
  {
   "cell_type": "code",
   "execution_count": null,
   "id": "b1babac2-520a-4a34-8dcc-e53722897527",
   "metadata": {},
   "outputs": [],
   "source": [
    "results = model.train(data=\"Pfad/zu/data.yaml\", \n",
    "epochs=300,\n",
    "imgsz=640,\n",
    "batch=16,\n",
    "patience=5,\n",
    "time=3.5,\n",
    "workers=4, \n",
    "name=\"   \", \n",
    "hsv_h=0.01,\n",
    "hsv_s=0.5,\n",
    "hsv_v=0.3,\n",
    "single_cls=True,\n",
    "conf=0.25,\n",
    "iou=0.5,\n",
    "max_det=100,\n",
    "dropout=0.1,\n",
    "multi_scale=True,\n",
    "label_smoothing=0.1)"
   ]
  }
 ],
 "metadata": {
  "kernelspec": {
   "display_name": "Python 3",
   "language": "python",
   "name": "python3"
  },
  "language_info": {
   "codemirror_mode": {
    "name": "ipython",
    "version": 3
   },
   "file_extension": ".py",
   "mimetype": "text/x-python",
   "name": "python",
   "nbconvert_exporter": "python",
   "pygments_lexer": "ipython3",
   "version": "3.12.2"
  }
 },
 "nbformat": 4,
 "nbformat_minor": 5
}
